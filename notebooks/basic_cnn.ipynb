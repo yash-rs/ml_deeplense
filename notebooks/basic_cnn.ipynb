{
 "cells": [
  {
   "cell_type": "markdown",
   "id": "a1cef986-ac3c-4b3a-ac40-1b6ca7e5b1d0",
   "metadata": {},
   "source": [
    "### Test the dataset class"
   ]
  },
  {
   "cell_type": "code",
   "execution_count": 1,
   "id": "d74666f5-2070-4322-a3b6-d5f6a6ea19d0",
   "metadata": {},
   "outputs": [
    {
     "name": "stdout",
     "output_type": "stream",
     "text": [
      "C:\\Users\\yashr\\Documents\\ml_deeplense\\src\n"
     ]
    }
   ],
   "source": [
    "import sys\n",
    "import os\n",
    "project_path = os.path.abspath(\"../src/\")\n",
    "print(project_path)"
   ]
  },
  {
   "cell_type": "code",
   "execution_count": 2,
   "id": "b1c33507-37ee-42df-afec-2dcbee359ea0",
   "metadata": {},
   "outputs": [],
   "source": [
    "sys.path.append(project_path)"
   ]
  },
  {
   "cell_type": "code",
   "execution_count": 6,
   "id": "453c46da-b009-463a-99f2-4f0df56070ec",
   "metadata": {},
   "outputs": [],
   "source": [
    "from dataset import LensDataset"
   ]
  },
  {
   "cell_type": "code",
   "execution_count": 7,
   "id": "05d07702-aee9-4868-9825-7668da4798f6",
   "metadata": {},
   "outputs": [],
   "source": [
    "images_path = \"../data/processed/all_train_data.npy\"\n",
    "labels_path = \"../data/processed/all_train_labels.npy\" \n",
    "train_data = LensDataset(images_path, labels_path)"
   ]
  },
  {
   "cell_type": "code",
   "execution_count": 8,
   "id": "3954b26b-50f4-41be-91ee-871c0b91fb85",
   "metadata": {},
   "outputs": [
    {
     "name": "stdout",
     "output_type": "stream",
     "text": [
      "30000\n",
      "torch.Size([1, 150, 150])\n",
      "torch.Size([])\n"
     ]
    }
   ],
   "source": [
    "print(train_data.__len__())\n",
    "X_sample, y_sample = train_data.__getitem__(3)\n",
    "print(X_sample.shape)\n",
    "print(y_sample.shape)"
   ]
  },
  {
   "cell_type": "markdown",
   "id": "c467064a-7886-4bcd-814e-b0bf6e7eac76",
   "metadata": {},
   "source": [
    "### Load the model"
   ]
  },
  {
   "cell_type": "code",
   "execution_count": 9,
   "id": "ce249d35-c047-40a4-a055-a8bf645656e7",
   "metadata": {},
   "outputs": [],
   "source": [
    "from model import CNNmodel"
   ]
  },
  {
   "cell_type": "code",
   "execution_count": 10,
   "id": "373f7147-2694-44fc-95b9-9a63bebd85c6",
   "metadata": {},
   "outputs": [
    {
     "name": "stdout",
     "output_type": "stream",
     "text": [
      "CNNmodel(\n",
      "  (flatten): Flatten(start_dim=1, end_dim=-1)\n",
      "  (cnn_layers): Sequential(\n",
      "    (0): Conv2d(1, 32, kernel_size=(3, 3), stride=(1, 1), padding=(1, 1))\n",
      "    (1): ReLU()\n",
      "    (2): MaxPool2d(kernel_size=2, stride=2, padding=0, dilation=1, ceil_mode=False)\n",
      "    (3): Conv2d(32, 64, kernel_size=(3, 3), stride=(1, 1), padding=(1, 1))\n",
      "    (4): ReLU()\n",
      "    (5): MaxPool2d(kernel_size=2, stride=2, padding=0, dilation=1, ceil_mode=False)\n",
      "    (6): Conv2d(64, 128, kernel_size=(3, 3), stride=(1, 1), padding=(1, 1))\n",
      "    (7): ReLU()\n",
      "    (8): MaxPool2d(kernel_size=2, stride=2, padding=0, dilation=1, ceil_mode=False)\n",
      "  )\n",
      "  (fc_layers): Sequential(\n",
      "    (0): Linear(in_features=41472, out_features=256, bias=True)\n",
      "    (1): ReLU()\n",
      "    (2): Linear(in_features=256, out_features=3, bias=True)\n",
      "  )\n",
      ")\n",
      "<generator object Module.parameters at 0x0000028037662260>\n"
     ]
    }
   ],
   "source": [
    "model = CNNmodel()\n",
    "print(model)\n",
    "print(model.parameters())"
   ]
  },
  {
   "cell_type": "code",
   "execution_count": 3,
   "id": "ed648023-32b4-4107-98fe-07fecd6a8602",
   "metadata": {},
   "outputs": [],
   "source": [
    "from train import train_model"
   ]
  },
  {
   "cell_type": "code",
   "execution_count": null,
   "id": "92dc0d27-5201-4538-a025-e0a01c37535b",
   "metadata": {},
   "outputs": [],
   "source": [
    "train_model()"
   ]
  },
  {
   "cell_type": "code",
   "execution_count": null,
   "id": "04420fcc-9c4f-44e7-95fe-908edd21a297",
   "metadata": {},
   "outputs": [],
   "source": []
  }
 ],
 "metadata": {
  "kernelspec": {
   "display_name": "Python 3 (ipykernel)",
   "language": "python",
   "name": "python3"
  },
  "language_info": {
   "codemirror_mode": {
    "name": "ipython",
    "version": 3
   },
   "file_extension": ".py",
   "mimetype": "text/x-python",
   "name": "python",
   "nbconvert_exporter": "python",
   "pygments_lexer": "ipython3",
   "version": "3.12.9"
  }
 },
 "nbformat": 4,
 "nbformat_minor": 5
}
