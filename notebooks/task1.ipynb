{
 "cells": [
  {
   "cell_type": "markdown",
   "id": "ce3de935-c504-4dde-a6ea-f3ab78b484b8",
   "metadata": {},
   "source": [
    "### Data Pre-processing"
   ]
  },
  {
   "cell_type": "code",
   "execution_count": 18,
   "id": "b005fac6-9eff-4469-8408-1bdbae157b7a",
   "metadata": {},
   "outputs": [],
   "source": [
    "import numpy as np\n",
    "import os"
   ]
  },
  {
   "cell_type": "code",
   "execution_count": 36,
   "id": "bbe4968d-1abe-405d-ba77-019336899a28",
   "metadata": {},
   "outputs": [],
   "source": [
    "train_folder = \"../data/raw/dataset/train/no/\"\n",
    "val_folder = \"../data/raw/dataset/val/\""
   ]
  },
  {
   "cell_type": "code",
   "execution_count": 37,
   "id": "8f4f0abd-8bfa-4bbb-8088-ef9bf5fb3ed4",
   "metadata": {},
   "outputs": [],
   "source": [
    "#function to load data files\n",
    "def load_data(folder):\n",
    "    files = os.listdir(folder)\n",
    "    arrays = [np.load(f\"{train_folder}{file}\") for file in files]\n",
    "    return arrays"
   ]
  },
  {
   "cell_type": "code",
   "execution_count": 44,
   "id": "1ca8e4de-5ff6-4e90-9191-a75bbaddea04",
   "metadata": {},
   "outputs": [],
   "source": [
    "full_data = []\n",
    "full_labels = []"
   ]
  },
  {
   "cell_type": "code",
   "execution_count": 42,
   "id": "0b3a7179-0429-4ce0-8826-6412314b2f09",
   "metadata": {},
   "outputs": [],
   "source": [
    "a = np.array(a)"
   ]
  },
  {
   "cell_type": "code",
   "execution_count": 43,
   "id": "18057be4-adb9-4793-a578-718cdf13ae0d",
   "metadata": {},
   "outputs": [
    {
     "data": {
      "text/plain": [
       "(10000, 1, 150, 150)"
      ]
     },
     "execution_count": 43,
     "metadata": {},
     "output_type": "execute_result"
    }
   ],
   "source": [
    "a.shape"
   ]
  },
  {
   "cell_type": "code",
   "execution_count": null,
   "id": "b1f96372-306f-49c4-afaa-2284b08b57d8",
   "metadata": {},
   "outputs": [],
   "source": []
  }
 ],
 "metadata": {
  "kernelspec": {
   "display_name": "Python 3 (ipykernel)",
   "language": "python",
   "name": "python3"
  },
  "language_info": {
   "codemirror_mode": {
    "name": "ipython",
    "version": 3
   },
   "file_extension": ".py",
   "mimetype": "text/x-python",
   "name": "python",
   "nbconvert_exporter": "python",
   "pygments_lexer": "ipython3",
   "version": "3.12.9"
  }
 },
 "nbformat": 4,
 "nbformat_minor": 5
}
