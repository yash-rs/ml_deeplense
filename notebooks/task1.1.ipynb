{
 "cells": [
  {
   "cell_type": "markdown",
   "id": "ce3de935-c504-4dde-a6ea-f3ab78b484b8",
   "metadata": {},
   "source": [
    "### Data Pre-processing"
   ]
  },
  {
   "cell_type": "code",
   "execution_count": 1,
   "id": "b005fac6-9eff-4469-8408-1bdbae157b7a",
   "metadata": {},
   "outputs": [],
   "source": [
    "import numpy as np\n",
    "import os"
   ]
  },
  {
   "cell_type": "code",
   "execution_count": 36,
   "id": "bbe4968d-1abe-405d-ba77-019336899a28",
   "metadata": {},
   "outputs": [],
   "source": [
    "val_folder = \"../data/raw/dataset/val/\""
   ]
  },
  {
   "cell_type": "code",
   "execution_count": 2,
   "id": "8f4f0abd-8bfa-4bbb-8088-ef9bf5fb3ed4",
   "metadata": {},
   "outputs": [],
   "source": [
    "#function to load data files\n",
    "def load_data(folder):\n",
    "    files = os.listdir(folder)\n",
    "    arrays = [np.load(f\"{folder}{file}\") for file in files]\n",
    "    return arrays"
   ]
  },
  {
   "cell_type": "code",
   "execution_count": 3,
   "id": "1ca8e4de-5ff6-4e90-9191-a75bbaddea04",
   "metadata": {},
   "outputs": [],
   "source": [
    "#function to prepare the final data\n",
    "def prepare_data():\n",
    "    full_data = []\n",
    "    labels = []\n",
    "    train_folders = [\"../data/raw/dataset/train/no/\", \"../data/raw/dataset/train/sphere/\", \"../data/raw/dataset/train/vort/\"]\n",
    "    i = 0\n",
    "    for folder in train_folders:\n",
    "        temp = load_data(folder)\n",
    "        s = len(temp)\n",
    "        temp_labels = [i] * s\n",
    "        full_data.extend(temp)\n",
    "        labels.extend(temp_labels)\n",
    "        i = i + 1\n",
    "\n",
    "    return np.array(full_data), np.array(labels)"
   ]
  },
  {
   "cell_type": "code",
   "execution_count": 4,
   "id": "0b3a7179-0429-4ce0-8826-6412314b2f09",
   "metadata": {},
   "outputs": [],
   "source": [
    "X, y = prepare_data()"
   ]
  },
  {
   "cell_type": "code",
   "execution_count": 7,
   "id": "181cd96c-4032-4bd8-9033-f0e4587ed41b",
   "metadata": {},
   "outputs": [
    {
     "name": "stdout",
     "output_type": "stream",
     "text": [
      "(30000, 1, 150, 150) (30000,)\n"
     ]
    }
   ],
   "source": [
    "print(X.shape, y.shape)"
   ]
  },
  {
   "cell_type": "code",
   "execution_count": 8,
   "id": "6fab11c5-6456-455a-a8c5-2993af4ed951",
   "metadata": {},
   "outputs": [],
   "source": [
    "np.save(\"../data/processed/all_train_data.npy\", X)\n",
    "np.save(\"../data/processed/all_train_labels.npy\", y)"
   ]
  },
  {
   "cell_type": "markdown",
   "id": "2d789ae0-5db9-443d-8760-ca062e7b9061",
   "metadata": {},
   "source": [
    "### Here we have saved our complete training data in single npy file\n",
    "### Classification of Structures\n",
    "\n",
    "\n",
    "---\n",
    "\n",
    "### Example of Classification\n",
    "\n",
    "Given the following list of arrays, we classify them as follows:\n",
    "\n",
    "- **Label 0**: No substructure\n",
    "- **Label 1**: Spherical substructure\n",
    "- **Label 2**: Vortex substructure\n"
   ]
  },
  {
   "cell_type": "code",
   "execution_count": null,
   "id": "dce2cc50-bbbf-4bbe-b78a-6d9c2415e225",
   "metadata": {},
   "outputs": [],
   "source": []
  }
 ],
 "metadata": {
  "kernelspec": {
   "display_name": "Python 3 (ipykernel)",
   "language": "python",
   "name": "python3"
  },
  "language_info": {
   "codemirror_mode": {
    "name": "ipython",
    "version": 3
   },
   "file_extension": ".py",
   "mimetype": "text/x-python",
   "name": "python",
   "nbconvert_exporter": "python",
   "pygments_lexer": "ipython3",
   "version": "3.12.9"
  }
 },
 "nbformat": 4,
 "nbformat_minor": 5
}
